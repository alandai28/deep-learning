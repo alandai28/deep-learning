{
  "nbformat": 4,
  "nbformat_minor": 0,
  "metadata": {
    "colab": {
      "name": "CNN_Keras_Cifar-10.ipynb",
      "provenance": [],
      "collapsed_sections": [],
      "authorship_tag": "ABX9TyNPgwqyXywkSjA/mU22qzTJ",
      "include_colab_link": true
    },
    "kernelspec": {
      "name": "python3",
      "display_name": "Python 3"
    },
    "accelerator": "GPU"
  },
  "cells": [
    {
      "cell_type": "markdown",
      "metadata": {
        "id": "view-in-github",
        "colab_type": "text"
      },
      "source": [
        "<a href=\"https://colab.research.google.com/github/alandai28/deep-learning/blob/master/CNN_Keras_Cifar_10.ipynb\" target=\"_parent\"><img src=\"https://colab.research.google.com/assets/colab-badge.svg\" alt=\"Open In Colab\"/></a>"
      ]
    },
    {
      "cell_type": "markdown",
      "metadata": {
        "id": "i-peJWCjLgvB",
        "colab_type": "text"
      },
      "source": [
        "Cifar-10 的所有圖片被分為 10 個類別 (以 0~9 數字作為 Label 之編碼) :  \n",
        "0 : airplain (飛機)  \n",
        "1 : automobile (汽車)\n",
        "2 : bird (鳥)  \n",
        "3 : cat (貓)  \n",
        "4 : deer (鹿)  \n",
        "5 : dog (狗)  \n",
        "6 : frog (青蛙)  \n",
        "7 : horse (馬)  \n",
        "8 : ship (船)  \n",
        "9 : truck (卡車)  \n",
        "包含 6 萬筆 32*32 低解析度之彩色圖片, 其中 5 萬筆為訓練集; 1 萬筆為測試集"
      ]
    },
    {
      "cell_type": "code",
      "metadata": {
        "id": "KxckS6lALu61",
        "colab_type": "code",
        "colab": {
          "base_uri": "https://localhost:8080/",
          "height": 33
        },
        "outputId": "d9ceaea7-74ad-443e-b725-e79c924c592f"
      },
      "source": [
        "from keras.models import Sequential\n",
        "from keras.layers import Conv2D\n",
        "from keras.layers import MaxPooling2D\n",
        "from keras.layers import Flatten\n",
        "from keras.layers import Dense\n",
        "from keras.layers import Dropout\n",
        "from keras.layers import BatchNormalization\n",
        "from keras.datasets import cifar10\n",
        "import numpy as np\n",
        "import tensorflow as tf\n",
        "from sklearn.preprocessing import OneHotEncoder\n",
        "\n",
        "(X_train, Y_train), (X_test, Y_test) = cifar10.load_data()\n",
        "\n",
        "print(X_train.shape) #(50000, 32, 32, 3)"
      ],
      "execution_count": null,
      "outputs": [
        {
          "output_type": "stream",
          "text": [
            "(50000, 32, 32, 3)\n"
          ],
          "name": "stdout"
        }
      ]
    },
    {
      "cell_type": "code",
      "metadata": {
        "id": "BKctGsLBvB9i",
        "colab_type": "code",
        "colab": {}
      },
      "source": [
        "## Normalize Data\n",
        "def normalize(X_train,X_test):\n",
        "        mean = np.mean(X_train,axis=(0,1,2,3))\n",
        "        std = np.std(X_train, axis=(0, 1, 2, 3))\n",
        "        X_train = (X_train-mean)/(std+1e-7)\n",
        "        X_test = (X_test-mean)/(std+1e-7)\n",
        "        return X_train, X_test\n",
        "    \n",
        "    \n",
        "## Normalize Training and Testset    \n",
        "x_train, x_test = normalize(X_train, X_test) \n",
        "\n",
        "## OneHot Label 由(None, 1)-(None, 10)\n",
        "one_hot=OneHotEncoder()\n",
        "y_train=one_hot.fit_transform(Y_train).toarray()\n",
        "y_test=one_hot.transform(Y_test).toarray()"
      ],
      "execution_count": null,
      "outputs": []
    },
    {
      "cell_type": "code",
      "metadata": {
        "id": "m6-MOPTXvECZ",
        "colab_type": "code",
        "colab": {
          "base_uri": "https://localhost:8080/",
          "height": 1000
        },
        "outputId": "7ccbc0b1-75da-41a8-ed7a-3172a0fe4f00"
      },
      "source": [
        "classifier=Sequential()\n",
        "\n",
        "#卷積組合\n",
        "classifier.add(Conv2D(32,(3,3),input_shape=(32,32,3),activation='relu'))\n",
        "classifier.add(BatchNormalization())\n",
        "classifier.add(MaxPooling2D(pool_size=(2,2)))\n",
        "\n",
        "#卷積組合\n",
        "classifier.add(Conv2D(32,(3,3),activation='relu'))\n",
        "classifier.add(BatchNormalization())\n",
        "classifier.add(MaxPooling2D(pool_size=(2,2)))\n",
        "\n",
        "#flatten\n",
        "classifier.add(Flatten())\n",
        "\n",
        "#FC\n",
        "classifier.add(Dense(100,activation='relu'))\n",
        "classifier.add(Dropout(rate=0.5))\n",
        "classifier.add(Dense(10,activation='softmax'))\n",
        "\n",
        "#超過兩個就要選categorical_crossentrophy\n",
        "classifier.compile(optimizer = 'adam', loss = 'categorical_crossentropy', metrics = ['accuracy'])\n",
        "classifier.fit(x_train,y_train,batch_size=100,epochs=100)"
      ],
      "execution_count": null,
      "outputs": [
        {
          "output_type": "stream",
          "text": [
            "Epoch 1/100\n",
            "500/500 [==============================] - 2s 4ms/step - loss: 1.6924 - accuracy: 0.4004\n",
            "Epoch 2/100\n",
            "500/500 [==============================] - 2s 4ms/step - loss: 1.3138 - accuracy: 0.5329\n",
            "Epoch 3/100\n",
            "500/500 [==============================] - 2s 4ms/step - loss: 1.1472 - accuracy: 0.5960\n",
            "Epoch 4/100\n",
            "500/500 [==============================] - 2s 4ms/step - loss: 1.0507 - accuracy: 0.6322\n",
            "Epoch 5/100\n",
            "500/500 [==============================] - 2s 4ms/step - loss: 0.9845 - accuracy: 0.6555\n",
            "Epoch 6/100\n",
            "500/500 [==============================] - 2s 4ms/step - loss: 0.9295 - accuracy: 0.6753\n",
            "Epoch 7/100\n",
            "500/500 [==============================] - 2s 4ms/step - loss: 0.8869 - accuracy: 0.6893\n",
            "Epoch 8/100\n",
            "500/500 [==============================] - 2s 4ms/step - loss: 0.8470 - accuracy: 0.7044\n",
            "Epoch 9/100\n",
            "500/500 [==============================] - 2s 4ms/step - loss: 0.8151 - accuracy: 0.7134\n",
            "Epoch 10/100\n",
            "500/500 [==============================] - 2s 4ms/step - loss: 0.7890 - accuracy: 0.7225\n",
            "Epoch 11/100\n",
            "500/500 [==============================] - 2s 4ms/step - loss: 0.7654 - accuracy: 0.7310\n",
            "Epoch 12/100\n",
            "500/500 [==============================] - 2s 4ms/step - loss: 0.7434 - accuracy: 0.7342\n",
            "Epoch 13/100\n",
            "500/500 [==============================] - 2s 4ms/step - loss: 0.7208 - accuracy: 0.7428\n",
            "Epoch 14/100\n",
            "500/500 [==============================] - 2s 4ms/step - loss: 0.7109 - accuracy: 0.7494\n",
            "Epoch 15/100\n",
            "500/500 [==============================] - 2s 4ms/step - loss: 0.6909 - accuracy: 0.7549\n",
            "Epoch 16/100\n",
            "500/500 [==============================] - 2s 4ms/step - loss: 0.6722 - accuracy: 0.7598\n",
            "Epoch 17/100\n",
            "500/500 [==============================] - 2s 4ms/step - loss: 0.6588 - accuracy: 0.7654\n",
            "Epoch 18/100\n",
            "500/500 [==============================] - 2s 4ms/step - loss: 0.6441 - accuracy: 0.7686\n",
            "Epoch 19/100\n",
            "500/500 [==============================] - 2s 4ms/step - loss: 0.6339 - accuracy: 0.7722\n",
            "Epoch 20/100\n",
            "500/500 [==============================] - 2s 4ms/step - loss: 0.6215 - accuracy: 0.7776\n",
            "Epoch 21/100\n",
            "500/500 [==============================] - 2s 4ms/step - loss: 0.6048 - accuracy: 0.7794\n",
            "Epoch 22/100\n",
            "500/500 [==============================] - 2s 4ms/step - loss: 0.5980 - accuracy: 0.7834\n",
            "Epoch 23/100\n",
            "500/500 [==============================] - 2s 4ms/step - loss: 0.5865 - accuracy: 0.7867\n",
            "Epoch 24/100\n",
            "500/500 [==============================] - 2s 4ms/step - loss: 0.5799 - accuracy: 0.7891\n",
            "Epoch 25/100\n",
            "500/500 [==============================] - 2s 4ms/step - loss: 0.5704 - accuracy: 0.7930\n",
            "Epoch 26/100\n",
            "500/500 [==============================] - 2s 4ms/step - loss: 0.5562 - accuracy: 0.7976\n",
            "Epoch 27/100\n",
            "500/500 [==============================] - 2s 4ms/step - loss: 0.5486 - accuracy: 0.7976\n",
            "Epoch 28/100\n",
            "500/500 [==============================] - 2s 4ms/step - loss: 0.5455 - accuracy: 0.8016\n",
            "Epoch 29/100\n",
            "500/500 [==============================] - 2s 4ms/step - loss: 0.5310 - accuracy: 0.8065\n",
            "Epoch 30/100\n",
            "500/500 [==============================] - 2s 4ms/step - loss: 0.5278 - accuracy: 0.8067\n",
            "Epoch 31/100\n",
            "500/500 [==============================] - 2s 4ms/step - loss: 0.5232 - accuracy: 0.8084\n",
            "Epoch 32/100\n",
            "500/500 [==============================] - 2s 4ms/step - loss: 0.5160 - accuracy: 0.8100\n",
            "Epoch 33/100\n",
            "500/500 [==============================] - 2s 4ms/step - loss: 0.5158 - accuracy: 0.8108\n",
            "Epoch 34/100\n",
            "500/500 [==============================] - 2s 4ms/step - loss: 0.4982 - accuracy: 0.8169\n",
            "Epoch 35/100\n",
            "500/500 [==============================] - 2s 4ms/step - loss: 0.4955 - accuracy: 0.8181\n",
            "Epoch 36/100\n",
            "500/500 [==============================] - 2s 4ms/step - loss: 0.4878 - accuracy: 0.8219\n",
            "Epoch 37/100\n",
            "500/500 [==============================] - 2s 4ms/step - loss: 0.4904 - accuracy: 0.8164\n",
            "Epoch 38/100\n",
            "500/500 [==============================] - 2s 4ms/step - loss: 0.4828 - accuracy: 0.8216\n",
            "Epoch 39/100\n",
            "500/500 [==============================] - 2s 4ms/step - loss: 0.4802 - accuracy: 0.8227\n",
            "Epoch 40/100\n",
            "500/500 [==============================] - 2s 4ms/step - loss: 0.4756 - accuracy: 0.8229\n",
            "Epoch 41/100\n",
            "500/500 [==============================] - 2s 4ms/step - loss: 0.4649 - accuracy: 0.8265\n",
            "Epoch 42/100\n",
            "500/500 [==============================] - 2s 4ms/step - loss: 0.4632 - accuracy: 0.8284\n",
            "Epoch 43/100\n",
            "500/500 [==============================] - 2s 4ms/step - loss: 0.4558 - accuracy: 0.8298\n",
            "Epoch 44/100\n",
            "500/500 [==============================] - 2s 4ms/step - loss: 0.4534 - accuracy: 0.8312\n",
            "Epoch 45/100\n",
            "500/500 [==============================] - 2s 4ms/step - loss: 0.4516 - accuracy: 0.8293\n",
            "Epoch 46/100\n",
            "500/500 [==============================] - 2s 4ms/step - loss: 0.4452 - accuracy: 0.8330\n",
            "Epoch 47/100\n",
            "500/500 [==============================] - 2s 4ms/step - loss: 0.4365 - accuracy: 0.8361\n",
            "Epoch 48/100\n",
            "500/500 [==============================] - 2s 4ms/step - loss: 0.4388 - accuracy: 0.8339\n",
            "Epoch 49/100\n",
            "500/500 [==============================] - 2s 4ms/step - loss: 0.4349 - accuracy: 0.8370\n",
            "Epoch 50/100\n",
            "500/500 [==============================] - 2s 4ms/step - loss: 0.4276 - accuracy: 0.8389\n",
            "Epoch 51/100\n",
            "500/500 [==============================] - 2s 4ms/step - loss: 0.4277 - accuracy: 0.8388\n",
            "Epoch 52/100\n",
            "500/500 [==============================] - 2s 4ms/step - loss: 0.4217 - accuracy: 0.8418\n",
            "Epoch 53/100\n",
            "500/500 [==============================] - 2s 4ms/step - loss: 0.4202 - accuracy: 0.8423\n",
            "Epoch 54/100\n",
            "500/500 [==============================] - 2s 4ms/step - loss: 0.4223 - accuracy: 0.8423\n",
            "Epoch 55/100\n",
            "500/500 [==============================] - 2s 4ms/step - loss: 0.4156 - accuracy: 0.8447\n",
            "Epoch 56/100\n",
            "500/500 [==============================] - 2s 4ms/step - loss: 0.4121 - accuracy: 0.8453\n",
            "Epoch 57/100\n",
            "500/500 [==============================] - 2s 4ms/step - loss: 0.4115 - accuracy: 0.8446\n",
            "Epoch 58/100\n",
            "500/500 [==============================] - 2s 4ms/step - loss: 0.4032 - accuracy: 0.8478\n",
            "Epoch 59/100\n",
            "500/500 [==============================] - 2s 4ms/step - loss: 0.4078 - accuracy: 0.8465\n",
            "Epoch 60/100\n",
            "500/500 [==============================] - 2s 4ms/step - loss: 0.4006 - accuracy: 0.8482\n",
            "Epoch 61/100\n",
            "500/500 [==============================] - 2s 4ms/step - loss: 0.3938 - accuracy: 0.8513\n",
            "Epoch 62/100\n",
            "500/500 [==============================] - 2s 4ms/step - loss: 0.3958 - accuracy: 0.8514\n",
            "Epoch 63/100\n",
            "500/500 [==============================] - 2s 4ms/step - loss: 0.3979 - accuracy: 0.8486\n",
            "Epoch 64/100\n",
            "500/500 [==============================] - 2s 4ms/step - loss: 0.3905 - accuracy: 0.8525\n",
            "Epoch 65/100\n",
            "500/500 [==============================] - 2s 4ms/step - loss: 0.3946 - accuracy: 0.8508\n",
            "Epoch 66/100\n",
            "500/500 [==============================] - 2s 4ms/step - loss: 0.3883 - accuracy: 0.8541\n",
            "Epoch 67/100\n",
            "500/500 [==============================] - 2s 4ms/step - loss: 0.3875 - accuracy: 0.8549\n",
            "Epoch 68/100\n",
            "500/500 [==============================] - 2s 4ms/step - loss: 0.3858 - accuracy: 0.8542\n",
            "Epoch 69/100\n",
            "500/500 [==============================] - 2s 4ms/step - loss: 0.3780 - accuracy: 0.8555\n",
            "Epoch 70/100\n",
            "500/500 [==============================] - 2s 4ms/step - loss: 0.3755 - accuracy: 0.8590\n",
            "Epoch 71/100\n",
            "500/500 [==============================] - 2s 4ms/step - loss: 0.3774 - accuracy: 0.8582\n",
            "Epoch 72/100\n",
            "500/500 [==============================] - 2s 4ms/step - loss: 0.3718 - accuracy: 0.8595\n",
            "Epoch 73/100\n",
            "500/500 [==============================] - 2s 4ms/step - loss: 0.3694 - accuracy: 0.8598\n",
            "Epoch 74/100\n",
            "500/500 [==============================] - 2s 4ms/step - loss: 0.3747 - accuracy: 0.8579\n",
            "Epoch 75/100\n",
            "500/500 [==============================] - 2s 4ms/step - loss: 0.3727 - accuracy: 0.8589\n",
            "Epoch 76/100\n",
            "500/500 [==============================] - 2s 4ms/step - loss: 0.3681 - accuracy: 0.8586\n",
            "Epoch 77/100\n",
            "500/500 [==============================] - 2s 4ms/step - loss: 0.3686 - accuracy: 0.8590\n",
            "Epoch 78/100\n",
            "500/500 [==============================] - 2s 4ms/step - loss: 0.3644 - accuracy: 0.8625\n",
            "Epoch 79/100\n",
            "500/500 [==============================] - 2s 4ms/step - loss: 0.3640 - accuracy: 0.8617\n",
            "Epoch 80/100\n",
            "500/500 [==============================] - 2s 4ms/step - loss: 0.3570 - accuracy: 0.8658\n",
            "Epoch 81/100\n",
            "500/500 [==============================] - 2s 4ms/step - loss: 0.3561 - accuracy: 0.8637\n",
            "Epoch 82/100\n",
            "500/500 [==============================] - 2s 4ms/step - loss: 0.3562 - accuracy: 0.8644\n",
            "Epoch 83/100\n",
            "500/500 [==============================] - 2s 4ms/step - loss: 0.3587 - accuracy: 0.8665\n",
            "Epoch 84/100\n",
            "500/500 [==============================] - 2s 4ms/step - loss: 0.3553 - accuracy: 0.8665\n",
            "Epoch 85/100\n",
            "500/500 [==============================] - 2s 4ms/step - loss: 0.3540 - accuracy: 0.8645\n",
            "Epoch 86/100\n",
            "500/500 [==============================] - 2s 4ms/step - loss: 0.3477 - accuracy: 0.8680\n",
            "Epoch 87/100\n",
            "500/500 [==============================] - 2s 4ms/step - loss: 0.3516 - accuracy: 0.8650\n",
            "Epoch 88/100\n",
            "500/500 [==============================] - 2s 4ms/step - loss: 0.3426 - accuracy: 0.8686\n",
            "Epoch 89/100\n",
            "500/500 [==============================] - 2s 4ms/step - loss: 0.3499 - accuracy: 0.8649\n",
            "Epoch 90/100\n",
            "500/500 [==============================] - 2s 4ms/step - loss: 0.3407 - accuracy: 0.8695\n",
            "Epoch 91/100\n",
            "500/500 [==============================] - 2s 4ms/step - loss: 0.3462 - accuracy: 0.8688\n",
            "Epoch 92/100\n",
            "500/500 [==============================] - 2s 4ms/step - loss: 0.3404 - accuracy: 0.8706\n",
            "Epoch 93/100\n",
            "500/500 [==============================] - 2s 4ms/step - loss: 0.3428 - accuracy: 0.8704\n",
            "Epoch 94/100\n",
            "500/500 [==============================] - 2s 4ms/step - loss: 0.3416 - accuracy: 0.8702\n",
            "Epoch 95/100\n",
            "500/500 [==============================] - 2s 4ms/step - loss: 0.3425 - accuracy: 0.8689\n",
            "Epoch 96/100\n",
            "500/500 [==============================] - 2s 4ms/step - loss: 0.3431 - accuracy: 0.8699\n",
            "Epoch 97/100\n",
            "500/500 [==============================] - 2s 4ms/step - loss: 0.3310 - accuracy: 0.8726\n",
            "Epoch 98/100\n",
            "500/500 [==============================] - 2s 4ms/step - loss: 0.3299 - accuracy: 0.8725\n",
            "Epoch 99/100\n",
            "500/500 [==============================] - 2s 4ms/step - loss: 0.3282 - accuracy: 0.8759\n",
            "Epoch 100/100\n",
            "500/500 [==============================] - 2s 4ms/step - loss: 0.3390 - accuracy: 0.8715\n"
          ],
          "name": "stdout"
        },
        {
          "output_type": "execute_result",
          "data": {
            "text/plain": [
              "<tensorflow.python.keras.callbacks.History at 0x7f6b0942ddd8>"
            ]
          },
          "metadata": {
            "tags": []
          },
          "execution_count": 39
        }
      ]
    },
    {
      "cell_type": "code",
      "metadata": {
        "id": "UvLqmr0JvGcm",
        "colab_type": "code",
        "colab": {
          "base_uri": "https://localhost:8080/",
          "height": 67
        },
        "outputId": "b1a7a2fd-b1b0-4fd4-a93f-866dddf42c0a"
      },
      "source": [
        "loss, accuracy = classifier.evaluate(x_test,y_test)\n",
        "print('Total loss on Testiong Set : ',loss)\n",
        "print('Accuracy of Testiong Set : ',accuracy)\n",
        "\n",
        "# Save model\n",
        "classifier.save('./CNN_Cifar10.h5')"
      ],
      "execution_count": null,
      "outputs": [
        {
          "output_type": "stream",
          "text": [
            "313/313 [==============================] - 1s 2ms/step - loss: 1.2664 - accuracy: 0.7100\n",
            "Total loss on Testiong Set :  1.2663596868515015\n",
            "Accuracy of Testiong Set :  0.7099999785423279\n"
          ],
          "name": "stdout"
        }
      ]
    },
    {
      "cell_type": "code",
      "metadata": {
        "id": "uc0sBfRDMBJh",
        "colab_type": "code",
        "colab": {}
      },
      "source": [
        "from keras.models import load_model\n",
        "import matplotlib.pyplot as plt\n",
        "import pandas as pd\n",
        "\n",
        "# Load Model\n",
        "model = load_model('./CNN_Cifar10.h5')\n",
        "\n",
        "# Display\n",
        "def plot_img(n):\n",
        "    plt.imshow(X_test[n], cmap='gray')\n",
        "    plt.show()\n",
        "    \n",
        "def all_img_predict(model):\n",
        "    print(model.summary())\n",
        "    loss, accuracy = model.evaluate(x_test, y_test)\n",
        "    print('Loss:', loss)\n",
        "    print('Accuracy:', accuracy)\n",
        "    predict = model.predict_classes(x_test)\n",
        "    print(pd.crosstab(Y_test.reshape(-1), predict, rownames=['Label'], colnames=['predict']))\n",
        "\n",
        "def one_img_predict(model, n):\n",
        "    predict = model.predict_classes(x_test)\n",
        "    print('Prediction:', predict[n])\n",
        "    print('Answer:', Y_test[n])\n",
        "    plot_img(n)"
      ],
      "execution_count": null,
      "outputs": []
    },
    {
      "cell_type": "code",
      "metadata": {
        "id": "4u2YMHxnMCL4",
        "colab_type": "code",
        "colab": {
          "base_uri": "https://localhost:8080/",
          "height": 820
        },
        "outputId": "2dfc5c22-5f7a-4dbb-879e-e46d8b852763"
      },
      "source": [
        "all_img_predict(model)"
      ],
      "execution_count": null,
      "outputs": [
        {
          "output_type": "stream",
          "text": [
            "Model: \"sequential_9\"\n",
            "_________________________________________________________________\n",
            "Layer (type)                 Output Shape              Param #   \n",
            "=================================================================\n",
            "conv2d_18 (Conv2D)           (None, 30, 30, 32)        896       \n",
            "_________________________________________________________________\n",
            "batch_normalization_18 (Batc (None, 30, 30, 32)        128       \n",
            "_________________________________________________________________\n",
            "max_pooling2d_16 (MaxPooling (None, 15, 15, 32)        0         \n",
            "_________________________________________________________________\n",
            "conv2d_19 (Conv2D)           (None, 13, 13, 32)        9248      \n",
            "_________________________________________________________________\n",
            "batch_normalization_19 (Batc (None, 13, 13, 32)        128       \n",
            "_________________________________________________________________\n",
            "max_pooling2d_17 (MaxPooling (None, 6, 6, 32)          0         \n",
            "_________________________________________________________________\n",
            "flatten_9 (Flatten)          (None, 1152)              0         \n",
            "_________________________________________________________________\n",
            "dense_18 (Dense)             (None, 100)               115300    \n",
            "_________________________________________________________________\n",
            "dropout_9 (Dropout)          (None, 100)               0         \n",
            "_________________________________________________________________\n",
            "dense_19 (Dense)             (None, 10)                1010      \n",
            "=================================================================\n",
            "Total params: 126,710\n",
            "Trainable params: 126,582\n",
            "Non-trainable params: 128\n",
            "_________________________________________________________________\n",
            "None\n",
            "313/313 [==============================] - 1s 2ms/step - loss: 1.2664 - accuracy: 0.7100\n",
            "Loss: 1.2663596868515015\n",
            "Accuracy: 0.7099999785423279\n",
            "WARNING:tensorflow:From <ipython-input-41-29bd24e9dc60>:18: Sequential.predict_classes (from tensorflow.python.keras.engine.sequential) is deprecated and will be removed after 2021-01-01.\n",
            "Instructions for updating:\n",
            "Please use instead:* `np.argmax(model.predict(x), axis=-1)`,   if your model does multi-class classification   (e.g. if it uses a `softmax` last-layer activation).* `(model.predict(x) > 0.5).astype(\"int32\")`,   if your model does binary classification   (e.g. if it uses a `sigmoid` last-layer activation).\n",
            "predict    0    1    2    3    4    5    6    7    8    9\n",
            "Label                                                    \n",
            "0        724   21   75   23   15    8   11   11   53   59\n",
            "1         24  798    8    7    3    4    9    6   21  120\n",
            "2         55    4  579   73   97   66   57   44    9   16\n",
            "3         17   10   62  535   67  173   62   44   10   20\n",
            "4         19    2   63   70  684   45   36   68    9    4\n",
            "5          9    5   41  190   44  623   21   57    3    7\n",
            "6          2    2   34   72   62   26  790    7    3    2\n",
            "7          9    2   32   32   86   68    4  748    3   16\n",
            "8         79   29   20   18    8    5    8    8  759   66\n",
            "9         29   48    4   20    1    3    5   13   17  860\n"
          ],
          "name": "stdout"
        }
      ]
    },
    {
      "cell_type": "code",
      "metadata": {
        "id": "_hyXfCtyMEGI",
        "colab_type": "code",
        "colab": {
          "base_uri": "https://localhost:8080/",
          "height": 299
        },
        "outputId": "bda5e948-f48c-4f68-9cdb-f539770646b1"
      },
      "source": [
        "one_img_predict(model, 3247)"
      ],
      "execution_count": null,
      "outputs": [
        {
          "output_type": "stream",
          "text": [
            "Prediction: 5\n",
            "Answer: [3]\n"
          ],
          "name": "stdout"
        },
        {
          "output_type": "display_data",
          "data": {
            "image/png": "[encoded data removed]",
            "text/plain": [
              "<Figure size 432x288 with 1 Axes>"
            ]
          },
          "metadata": {
            "tags": [],
            "needs_background": "light"
          }
        }
      ]
    }
  ]
}